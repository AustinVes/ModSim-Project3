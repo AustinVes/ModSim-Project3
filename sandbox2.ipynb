{
 "cells": [
  {
   "cell_type": "code",
   "execution_count": null,
   "metadata": {},
   "outputs": [],
   "source": []
  },
  {
   "cell_type": "code",
   "execution_count": 1,
   "metadata": {},
   "outputs": [],
   "source": [
    "# Configure Jupyter so figures appear in the notebook\n",
    "%matplotlib inline\n",
    "\n",
    "# Configure Jupyter to display the assigned value after an assignment\n",
    "%config InteractiveShell.ast_node_interactivity='last_expr_or_assign'\n",
    "\n",
    "# import functions from the modsim.py module\n",
    "# modsim breaks the key argument on the min function,\n",
    "# so we go around it\n",
    "py_min = min\n",
    "from modsim import *\n",
    "from numpy import *\n",
    "min = py_min\n",
    "\n",
    "# import os module for listing directories\n",
    "import os\n",
    "\n",
    "# import JSON module for storing and loading data\n",
    "import json\n",
    "\n",
    "# you need to run 'pip install progressbar2' for this to work\n",
    "import progressbar"
   ]
  },
  {
   "cell_type": "code",
   "execution_count": 2,
   "metadata": {},
   "outputs": [
    {
     "data": {
      "text/html": [
       "newton"
      ],
      "text/latex": [
       "$newton$"
      ],
      "text/plain": [
       "<Unit('newton')>"
      ]
     },
     "execution_count": 2,
     "metadata": {},
     "output_type": "execute_result"
    }
   ],
   "source": [
    "m = UNITS.meter\n",
    "s = UNITS.second\n",
    "kg = UNITS.kilogram\n",
    "degree = UNITS.degree\n",
    "N = UNITS.newton"
   ]
  },
  {
   "cell_type": "code",
   "execution_count": 3,
   "metadata": {},
   "outputs": [
    {
     "data": {
      "text/html": [
       "<div>\n",
       "<style scoped>\n",
       "    .dataframe tbody tr th:only-of-type {\n",
       "        vertical-align: middle;\n",
       "    }\n",
       "\n",
       "    .dataframe tbody tr th {\n",
       "        vertical-align: top;\n",
       "    }\n",
       "\n",
       "    .dataframe thead th {\n",
       "        text-align: right;\n",
       "    }\n",
       "</style>\n",
       "<table border=\"1\" class=\"dataframe\">\n",
       "  <thead>\n",
       "    <tr style=\"text-align: right;\">\n",
       "      <th></th>\n",
       "      <th>values</th>\n",
       "    </tr>\n",
       "  </thead>\n",
       "  <tbody>\n",
       "    <tr>\n",
       "      <th>x</th>\n",
       "      <td>0 meter</td>\n",
       "    </tr>\n",
       "    <tr>\n",
       "      <th>y</th>\n",
       "      <td>10000 meter</td>\n",
       "    </tr>\n",
       "    <tr>\n",
       "      <th>speed</th>\n",
       "      <td>88.889 meter / second</td>\n",
       "    </tr>\n",
       "    <tr>\n",
       "      <th>mass</th>\n",
       "      <td>900 kilogram</td>\n",
       "    </tr>\n",
       "    <tr>\n",
       "      <th>g</th>\n",
       "      <td>3.7 meter / second ** 2</td>\n",
       "    </tr>\n",
       "    <tr>\n",
       "      <th>diam</th>\n",
       "      <td>3 meter</td>\n",
       "    </tr>\n",
       "    <tr>\n",
       "      <th>C_d</th>\n",
       "      <td>0.3</td>\n",
       "    </tr>\n",
       "    <tr>\n",
       "      <th>rho</th>\n",
       "      <td>0.0072 kilogram / meter ** 3</td>\n",
       "    </tr>\n",
       "    <tr>\n",
       "      <th>t_end</th>\n",
       "      <td>3600 second</td>\n",
       "    </tr>\n",
       "    <tr>\n",
       "      <th>angle</th>\n",
       "      <td>-45 degree</td>\n",
       "    </tr>\n",
       "    <tr>\n",
       "      <th>Thrust</th>\n",
       "      <td>3300.0 kilogram * meter / second ** 2</td>\n",
       "    </tr>\n",
       "  </tbody>\n",
       "</table>\n",
       "</div>"
      ],
      "text/plain": [
       "x                                       0 meter\n",
       "y                                   10000 meter\n",
       "speed                     88.889 meter / second\n",
       "mass                               900 kilogram\n",
       "g                       3.7 meter / second ** 2\n",
       "diam                                    3 meter\n",
       "C_d                                         0.3\n",
       "rho                0.0072 kilogram / meter ** 3\n",
       "t_end                               3600 second\n",
       "angle                                -45 degree\n",
       "Thrust    3300.0 kilogram * meter / second ** 2\n",
       "dtype: object"
      ]
     },
     "execution_count": 3,
     "metadata": {},
     "output_type": "execute_result"
    }
   ],
   "source": [
    "default_params = Params(\n",
    "    x = 0 * m,\n",
    "    y = 10000 * m,\n",
    "    speed = 88.889 * m/s,\n",
    "    mass = 900 * kg,\n",
    "    g = 3.7 * m/s**2,\n",
    "    diam = 3 * m,\n",
    "    C_d = 0.3,\n",
    "    rho = 1.2 * 0.006 * kg/m**3,\n",
    "    t_end = 3600 * s,\n",
    "    angle = -45 * degree,\n",
    "    Thrust = 3300 * kg * m/s**2\n",
    ")"
   ]
  },
  {
   "cell_type": "code",
   "execution_count": 4,
   "metadata": {},
   "outputs": [],
   "source": [
    "def make_system(params):\n",
    "    \"\"\" Make a system object.\n",
    "    \n",
    "    params: Parameter object includes\n",
    "     - x: initial x position (m)\n",
    "     - y: initial y position (m)\n",
    "     - speed: initial speed (m/s)\n",
    "     \n",
    "     - mass: rover mass (kg)\n",
    "     - g: acceleration due to gravity (m/s^2)\n",
    "     \n",
    "     - diam: rover diameter (m)\n",
    "     - C_d: coefficient of drag (unitless)\n",
    "     - rho: air density at surface level (kg/m^3)\n",
    "     \n",
    "     - t_end: end time (s)\n",
    "     \n",
    "     - angle: entry angle (degree)\n",
    "     - Thrust: thrust force (N)\n",
    "    \n",
    "    returns: System object includes\n",
    "     - mass: rover mass (kg)\n",
    "     - area: rover surface area (m^2)\n",
    "     - g: acceleration due to gravity (m/s^2)\n",
    "     - thrust: acceleration due to thrust (m/s^2)\n",
    "     - C_d: coefficient of drag (unitless)\n",
    "     - rho: air density at surface level (kg/m^3)\n",
    "     - t_end: end time (s)\n",
    "     - init: State object includes\n",
    "      - x\n",
    "      - y\n",
    "      - vx\n",
    "      - vy\n",
    "    \"\"\"\n",
    "    \n",
    "    unpack(params)\n",
    "    \n",
    "    area = np.pi * (diam/2)**2\n",
    "    \n",
    "    thrust = Thrust / mass\n",
    "    \n",
    "    theta = np.deg2rad(angle)\n",
    "    vx, vy = Vector(*pol2cart(theta, speed))\n",
    "    init = State(x=x, y=y, vx=vx, vy=vy)\n",
    "    \n",
    "    return System(\n",
    "        mass = mass,\n",
    "        area = area,\n",
    "        g = g,\n",
    "        thrust = thrust,\n",
    "        C_d = C_d,\n",
    "        rho = rho,\n",
    "        t_end = t_end,\n",
    "        init = init\n",
    "    )"
   ]
  },
  {
   "cell_type": "code",
   "execution_count": 5,
   "metadata": {},
   "outputs": [
    {
     "data": {
      "text/html": [
       "<div>\n",
       "<style scoped>\n",
       "    .dataframe tbody tr th:only-of-type {\n",
       "        vertical-align: middle;\n",
       "    }\n",
       "\n",
       "    .dataframe tbody tr th {\n",
       "        vertical-align: top;\n",
       "    }\n",
       "\n",
       "    .dataframe thead th {\n",
       "        text-align: right;\n",
       "    }\n",
       "</style>\n",
       "<table border=\"1\" class=\"dataframe\">\n",
       "  <thead>\n",
       "    <tr style=\"text-align: right;\">\n",
       "      <th></th>\n",
       "      <th>values</th>\n",
       "    </tr>\n",
       "  </thead>\n",
       "  <tbody>\n",
       "    <tr>\n",
       "      <th>mass</th>\n",
       "      <td>900 kilogram</td>\n",
       "    </tr>\n",
       "    <tr>\n",
       "      <th>area</th>\n",
       "      <td>7.0685834705770345 meter ** 2</td>\n",
       "    </tr>\n",
       "    <tr>\n",
       "      <th>g</th>\n",
       "      <td>3.7 meter / second ** 2</td>\n",
       "    </tr>\n",
       "    <tr>\n",
       "      <th>thrust</th>\n",
       "      <td>3.6666666666666665 meter / second ** 2</td>\n",
       "    </tr>\n",
       "    <tr>\n",
       "      <th>C_d</th>\n",
       "      <td>0.3</td>\n",
       "    </tr>\n",
       "    <tr>\n",
       "      <th>rho</th>\n",
       "      <td>0.0072 kilogram / meter ** 3</td>\n",
       "    </tr>\n",
       "    <tr>\n",
       "      <th>t_end</th>\n",
       "      <td>3600 second</td>\n",
       "    </tr>\n",
       "    <tr>\n",
       "      <th>init</th>\n",
       "      <td>x                                0 meter\n",
       "y    ...</td>\n",
       "    </tr>\n",
       "  </tbody>\n",
       "</table>\n",
       "</div>"
      ],
      "text/plain": [
       "mass                                           900 kilogram\n",
       "area                          7.0685834705770345 meter ** 2\n",
       "g                                   3.7 meter / second ** 2\n",
       "thrust               3.6666666666666665 meter / second ** 2\n",
       "C_d                                                     0.3\n",
       "rho                            0.0072 kilogram / meter ** 3\n",
       "t_end                                           3600 second\n",
       "init      x                                0 meter\n",
       "y    ...\n",
       "dtype: object"
      ]
     },
     "execution_count": 5,
     "metadata": {},
     "output_type": "execute_result"
    }
   ],
   "source": [
    "make_system(default_params)"
   ]
  },
  {
   "cell_type": "code",
   "execution_count": 6,
   "metadata": {},
   "outputs": [],
   "source": [
    "def drag_force(state, system):\n",
    "    \"\"\"Computes drag force in the opposite direction of velocity.\n",
    "    \n",
    "    state: State object with pos, v\n",
    "    system: System object with area, C_d, rho\n",
    "    \n",
    "    returns: Vector drag force\n",
    "    \"\"\"\n",
    "    \n",
    "    x, y, vx, vy = state\n",
    "    pos = Vector(x,y)\n",
    "    v = Vector(vx,vy)\n",
    "    unpack(system)\n",
    "    \n",
    "    C_a = np.exp(-(pos.y/1000)/np.e)\n",
    "    mag = -(rho * C_a) * v.mag**2 * C_d * area / 2\n",
    "    direction = v.hat()\n",
    "    f_drag = mag * direction\n",
    "    return f_drag"
   ]
  },
  {
   "cell_type": "code",
   "execution_count": 7,
   "metadata": {},
   "outputs": [],
   "source": [
    "def slope_func(state, t, system):\n",
    "    \"\"\"Computes derivatives of the state variables.\n",
    "    \n",
    "    state: State (x, y, vx, vy)\n",
    "    t: time\n",
    "    system: System object with g, rho, C_d, area, mass\n",
    "    \n",
    "    returns: sequence (v.x, v.y, a.x, a.y)\n",
    "    \"\"\"\n",
    "    x, y, vx, vy = state\n",
    "    pos = Vector(x,y)\n",
    "    v = Vector(vx,vy)\n",
    "    unpack(system)\n",
    "  \n",
    "    a_drag = drag_force(state, system) / mass\n",
    "    a_grav = Vector(0, -g)\n",
    "    a_thrust = Vector(0, thrust)\n",
    "    \n",
    "    a = a_grav + a_thrust + a_drag\n",
    "    \n",
    "    return v.x, v.y, a.x, a.y"
   ]
  },
  {
   "cell_type": "code",
   "execution_count": 8,
   "metadata": {},
   "outputs": [],
   "source": [
    "def event_func(state, t, system):\n",
    "    \"\"\"Stop when the y coordinate is 0.\n",
    "    S\n",
    "    state: State object\n",
    "    t: time\n",
    "    system: System object\n",
    "    \n",
    "    returns: y coordinate\n",
    "    \"\"\"\n",
    "    x, y, vx, vy = state\n",
    "    pos = Vector(x,y)\n",
    "    v = Vector(vx,vy)\n",
    "    \n",
    "    return pos.y"
   ]
  },
  {
   "cell_type": "code",
   "execution_count": 9,
   "metadata": {},
   "outputs": [],
   "source": [
    "def landing_speed(Thrust, params):\n",
    "    \"\"\"Computes the speed at which the rover hits the ground for a given thrust.\n",
    "    \n",
    "    Thrust: thrust force in kg * m/s^2\n",
    "    params: Params object\n",
    "    \n",
    "    returns: landing speed in m/s\n",
    "    \"\"\"\n",
    "    params = Params(params, Thrust=Thrust * kg * m/s**2)\n",
    "    system = make_system(params)\n",
    "    results, details = run_ode_solver(system, slope_func, events=event_func)\n",
    "    final_v = Vector(get_last_value(results.vx), get_last_value(results.vy))\n",
    "    final_speed = final_v.mag * m/s\n",
    "    return final_speed"
   ]
  },
  {
   "cell_type": "code",
   "execution_count": 10,
   "metadata": {},
   "outputs": [],
   "source": [
    "def thrust_for_angle(angle, params):\n",
    "    \"\"\"Computes the optimal thrust for a given angle.\n",
    "    \n",
    "    angle: entry angle in degrees\n",
    "    params: Params object\n",
    "    \n",
    "    returns: thrust in kg * m/s^2\n",
    "    \"\"\"\n",
    "\n",
    "    new_params = Params(params, angle=angle * degree)\n",
    "    result = min_bounded(landing_speed, [0,10000], new_params)\n",
    "    optimal_thrust = result.x\n",
    "    return optimal_thrust"
   ]
  },
  {
   "cell_type": "code",
   "execution_count": 11,
   "metadata": {},
   "outputs": [],
   "source": [
    "def optimize_all_angles(speed, params, **kwargs):\n",
    "    \"\"\"Computes optimal thrust, impact speed, and time for all \n",
    "    angles between 0 and -90 degrees given entry speed.\n",
    "    \n",
    "    speed: entry speed in m/s\n",
    "    params: Params object\n",
    "    progress: (optional) progress bar object to update\n",
    "    count: (optional) counter variable for tracking progress\n",
    "    \n",
    "    returns: Dictionary object includes\n",
    "     - key: angle in degrees\n",
    "      - optimal_thrust: optimal thrust in kg * m/s^2\n",
    "      - impact_speed: landing speed in m/s\n",
    "      - time: descent time in s\n",
    "    \"\"\"\n",
    "    if 'progress' in kwargs and 'count' in kwargs:\n",
    "        progress = kwargs['progress']\n",
    "        count = kwargs['count']\n",
    "    else:\n",
    "        progress = None\n",
    "        count = None\n",
    "    \n",
    "    params = Params(params, speed=speed * m/s)\n",
    "    \n",
    "    sweep_data = {}\n",
    "    \n",
    "    for angle in range(-90, 1):\n",
    "        params = Params(params, angle=angle * degree)\n",
    "\n",
    "        opt_result = min_bounded(landing_speed, [3000,5500], params)\n",
    "        optimal_thrust = opt_result.x\n",
    "        impact_speed = opt_result.fun\n",
    "        \n",
    "        params = Params(params, Thrust=optimal_thrust)\n",
    "        system = make_system(params)\n",
    "        sim_results, sim_details = run_ode_solver(system, slope_func, events=event_func)\n",
    "        time = get_last_value(sim_results.index)\n",
    "        \n",
    "        sweep_data[angle] = {\n",
    "            'optimal_thrust': optimal_thrust,\n",
    "            'impact_speed': impact_speed.item(),\n",
    "            'time': time\n",
    "        }\n",
    "        \n",
    "        if progress:\n",
    "            count += 1\n",
    "            progress.update(count)\n",
    "    \n",
    "    return sweep_data"
   ]
  },
  {
   "cell_type": "code",
   "execution_count": 12,
   "metadata": {},
   "outputs": [],
   "source": [
    "def sweep_speeds_and_export(speeds, params):\n",
    "    \"\"\"For each speed, this function records the optimum thrust, landing speed, \n",
    "    and descent time for every entry angle between 0 and -90 degrees.\n",
    "    It saves all the data for each speed as an individual JSON file.\n",
    "    \n",
    "    speeds: list of all speeds to test\n",
    "    params: Params object\n",
    "    \n",
    "    returns: None\n",
    "    \"\"\"\n",
    "    \n",
    "    bar_widgets = [\n",
    "        progressbar.Percentage(),\n",
    "        ' | ',\n",
    "        progressbar.SimpleProgress(),\n",
    "        ' | ',\n",
    "        progressbar.ETA()\n",
    "    ]\n",
    "    \n",
    "    progress_count = 0\n",
    "    \n",
    "    with progressbar.ProgressBar(max_value=len(speeds) * 91, widgets=bar_widgets) as bar:\n",
    "        for idx, speed in enumerate(speeds):\n",
    "            data = optimize_all_angles(speed, params, progress=bar, count=idx*91)\n",
    "            filepath = f'data/{speed}.json'\n",
    "            with open(filepath, 'w') as outfile:\n",
    "                json.dump(data, outfile)\n",
    "    \n",
    "    return"
   ]
  },
  {
   "cell_type": "code",
   "execution_count": 13,
   "metadata": {},
   "outputs": [],
   "source": [
    "# sweep_speeds_and_export(range(10,201), default_params)"
   ]
  },
  {
   "cell_type": "code",
   "execution_count": 14,
   "metadata": {},
   "outputs": [],
   "source": [
    "def assemble_data(dir_path):\n",
    "    \"\"\"Reassembles optimized data from collection of JSON files.\n",
    "    \n",
    "    dir_path: path to data directory ending with '/'\n",
    "    \n",
    "    returns: Dictionary object containing the optimum thrust, landing speed, \n",
    "    and descent time for every entry angle between 0 and -90 degrees for each \n",
    "    entry speed recorded in the data folder\n",
    "    \"\"\"\n",
    "    \n",
    "    data_dict = {}\n",
    "    \n",
    "    all_files = os.listdir(dir_path)\n",
    "    json_files = [f for f in all_files if f.endswith('.json')]\n",
    "    \n",
    "    for filename in json_files:\n",
    "        speed = int(filename.split('.')[0])\n",
    "        \n",
    "        with open(dir_path + filename, 'r') as data_file:\n",
    "            data_dict[speed] = {int(a): d for a,d in json.load(data_file).items()}\n",
    "\n",
    "    return data_dict"
   ]
  },
  {
   "cell_type": "code",
   "execution_count": 15,
   "metadata": {},
   "outputs": [],
   "source": [
    "data = assemble_data('data/');"
   ]
  },
  {
   "cell_type": "code",
   "execution_count": 16,
   "metadata": {},
   "outputs": [],
   "source": [
    "entry_speeds = [s for s in data]\n",
    "optimal_angles = [min(data[s], key=lambda a: data[s][a]['impact_speed']) for s in data]\n",
    "optimal_thrusts = [data[s][a]['optimal_thrust'] for s, a in zip(data, optimal_angles)]\n",
    "optimal_speeds = [data[s][a]['impact_speed'] for s, a in zip(data, optimal_angles)];"
   ]
  },
  {
   "cell_type": "code",
   "execution_count": 17,
   "metadata": {},
   "outputs": [
    {
     "data": {
      "text/plain": [
       "[<matplotlib.lines.Line2D at 0x20d5d083fd0>]"
      ]
     },
     "execution_count": 17,
     "metadata": {},
     "output_type": "execute_result"
    },
    {
     "data": {
      "image/png": "[encoded data removed]",
      "text/plain": [
       "<Figure size 432x288 with 1 Axes>"
      ]
     },
     "metadata": {},
     "output_type": "display_data"
    }
   ],
   "source": [
    "plot(entry_speeds, optimal_angles, '.')"
   ]
  },
  {
   "cell_type": "code",
   "execution_count": 18,
   "metadata": {},
   "outputs": [
    {
     "data": {
      "text/plain": [
       "[<matplotlib.lines.Line2D at 0x20d5d10f358>]"
      ]
     },
     "execution_count": 18,
     "metadata": {},
     "output_type": "execute_result"
    },
    {
     "data": {
      "image/png": "[encoded data removed]",
      "text/plain": [
       "<Figure size 432x288 with 1 Axes>"
      ]
     },
     "metadata": {},
     "output_type": "display_data"
    }
   ],
   "source": [
    "plot(entry_speeds, optimal_thrusts, '.')"
   ]
  },
  {
   "cell_type": "code",
   "execution_count": 19,
   "metadata": {},
   "outputs": [
    {
     "data": {
      "text/plain": [
       "[<matplotlib.lines.Line2D at 0x20d5d1673c8>]"
      ]
     },
     "execution_count": 19,
     "metadata": {},
     "output_type": "execute_result"
    },
    {
     "data": {
      "image/png": "[encoded data removed]",
      "text/plain": [
       "<Figure size 432x288 with 1 Axes>"
      ]
     },
     "metadata": {},
     "output_type": "display_data"
    }
   ],
   "source": [
    "plot(entry_speeds, optimal_speeds, '.')"
   ]
  },
  {
   "cell_type": "code",
   "execution_count": 20,
   "metadata": {},
   "outputs": [],
   "source": [
    "sample_s = 88\n",
    "angles = [a for a in data[sample_s]]\n",
    "thrust = [data[sample_s][a]['optimal_thrust'] for a in angles]\n",
    "speed = [data[sample_s][a]['impact_speed'] for a in angles]\n",
    "time = [data[sample_s][a]['time'] for a in angles];"
   ]
  },
  {
   "cell_type": "code",
   "execution_count": 21,
   "metadata": {},
   "outputs": [
    {
     "data": {
      "text/plain": [
       "[<matplotlib.lines.Line2D at 0x20d5d1b8438>]"
      ]
     },
     "execution_count": 21,
     "metadata": {},
     "output_type": "execute_result"
    },
    {
     "data": {
      "image/png": "[encoded data removed]",
      "text/plain": [
       "<Figure size 432x288 with 1 Axes>"
      ]
     },
     "metadata": {},
     "output_type": "display_data"
    }
   ],
   "source": [
    "plot(angles, thrust)"
   ]
  },
  {
   "cell_type": "code",
   "execution_count": 22,
   "metadata": {},
   "outputs": [
    {
     "data": {
      "text/plain": [
       "[<matplotlib.lines.Line2D at 0x20d5d206940>]"
      ]
     },
     "execution_count": 22,
     "metadata": {},
     "output_type": "execute_result"
    },
    {
     "data": {
      "image/png": "[encoded data removed]",
      "text/plain": [
       "<Figure size 432x288 with 1 Axes>"
      ]
     },
     "metadata": {},
     "output_type": "display_data"
    }
   ],
   "source": [
    "plot(angles, speed)"
   ]
  },
  {
   "cell_type": "code",
   "execution_count": 23,
   "metadata": {},
   "outputs": [
    {
     "data": {
      "text/plain": [
       "[<matplotlib.lines.Line2D at 0x20d5d25c2b0>]"
      ]
     },
     "execution_count": 23,
     "metadata": {},
     "output_type": "execute_result"
    },
    {
     "data": {
      "image/png": "[encoded data removed]",
      "text/plain": [
       "<Figure size 432x288 with 1 Axes>"
      ]
     },
     "metadata": {},
     "output_type": "display_data"
    }
   ],
   "source": [
    "plot(angles, time)"
   ]
  },
  {
   "cell_type": "code",
   "execution_count": 24,
   "metadata": {},
   "outputs": [],
   "source": [
    "def optimize_for_fuel(angle_data, threshold):\n",
    "    \"\"\"Selects the entry angle and thrust that will minimize fuel usage\n",
    "    while still landing the rover safely.\n",
    "    \n",
    "    angle_data: Dictionary object containing the optimum thrust, landing speed, \n",
    "    and descent time for every entry angle between 0 and -90 degrees for a specific\n",
    "    entry speed\n",
    "    threshold: maximum impact speed at which the rover can land safely\n",
    "    \n",
    "    returns: Dictionary object includes\n",
    "     - angle: optimal angle in degrees\n",
    "     - thrust: optimal thrust in kg * m/s^2\n",
    "     - impact_speed: landing speed in m/s\n",
    "     - time: descent time in s\n",
    "    \"\"\"\n",
    "    \n",
    "    safe_entries = {a: d for a,d in angle_data.items() if d['impact_speed'] <= threshold}\n",
    "    if not safe_entries: return None\n",
    "    \n",
    "    s_e = safe_entries\n",
    "    least_fuel = min(s_e, key=lambda a: s_e[a]['optimal_thrust'] * s_e[a]['time'])\n",
    "    efficient_entry = {\n",
    "        'angle': least_fuel,\n",
    "        'thrust': s_e[least_fuel]['optimal_thrust'],\n",
    "        'impact_speed': s_e[least_fuel]['impact_speed'],\n",
    "        'time': s_e[least_fuel]['time']\n",
    "    }\n",
    "    \n",
    "    return efficient_entry"
   ]
  },
  {
   "cell_type": "code",
   "execution_count": 25,
   "metadata": {},
   "outputs": [],
   "source": [
    "def fuel_optimized(data_dict, threshold):\n",
    "    \"\"\"Determines the most fuel efficient entry angle and thrust that\n",
    "    will still land the rover safely (if possible) for every given entry speed.\n",
    "    \n",
    "    data_dict: Dictionary object containing the optimum thrust, landing speed, \n",
    "    and descent time for every entry angle between 0 and -90 degrees for each \n",
    "    entry speed\n",
    "    threshold: maximum impact speed at which the rover can land safely\n",
    "    \n",
    "    returns: Dictionary object containing the most fuel efficient entry angle,\n",
    "    thrust, landing speed, and descent time for every entry speed where a safe \n",
    "    landing is possible\n",
    "    \"\"\"\n",
    "    \n",
    "    efficient_entries = {}\n",
    "    \n",
    "    for entry_speed in data_dict:\n",
    "        fuel_optimized_entry = optimize_for_fuel(data_dict[entry_speed], threshold)\n",
    "        if fuel_optimized_entry is not None:\n",
    "            efficient_entries[entry_speed] = fuel_optimized_entry\n",
    "    \n",
    "    return efficient_entries"
   ]
  },
  {
   "cell_type": "code",
   "execution_count": 26,
   "metadata": {},
   "outputs": [],
   "source": [
    "max_safe_impact_speed = 14\n",
    "fuel_optimized_data = fuel_optimized(data, max_safe_impact_speed)\n",
    "\n",
    "fuel_entry_speeds = [s for s in fuel_optimized_data]\n",
    "fuel_angles = [fuel_optimized_data[s]['angle'] for s in fuel_optimized_data]\n",
    "fuel_thrusts = [fuel_optimized_data[s]['thrust'] for s in fuel_optimized_data]\n",
    "fuel_times = [fuel_optimized_data[s]['time'] for s in fuel_optimized_data];"
   ]
  },
  {
   "cell_type": "code",
   "execution_count": 27,
   "metadata": {},
   "outputs": [
    {
     "data": {
      "text/plain": [
       "[<matplotlib.lines.Line2D at 0x20d5d2b16d8>]"
      ]
     },
     "execution_count": 27,
     "metadata": {},
     "output_type": "execute_result"
    },
    {
     "data": {
      "image/png": "[encoded data removed]",
      "text/plain": [
       "<Figure size 432x288 with 1 Axes>"
      ]
     },
     "metadata": {},
     "output_type": "display_data"
    }
   ],
   "source": [
    "plot(fuel_entry_speeds, fuel_angles, '.')"
   ]
  },
  {
   "cell_type": "code",
   "execution_count": 28,
   "metadata": {},
   "outputs": [
    {
     "data": {
      "text/plain": [
       "[<matplotlib.lines.Line2D at 0x20d5d2ffb70>]"
      ]
     },
     "execution_count": 28,
     "metadata": {},
     "output_type": "execute_result"
    },
    {
     "data": {
      "image/png": "[encoded data removed]",
      "text/plain": [
       "<Figure size 432x288 with 1 Axes>"
      ]
     },
     "metadata": {},
     "output_type": "display_data"
    }
   ],
   "source": [
    "plot(fuel_entry_speeds, fuel_thrusts, '.')"
   ]
  },
  {
   "cell_type": "code",
   "execution_count": 29,
   "metadata": {
    "scrolled": false
   },
   "outputs": [
    {
     "data": {
      "text/plain": [
       "[<matplotlib.lines.Line2D at 0x20d5d350550>]"
      ]
     },
     "execution_count": 29,
     "metadata": {},
     "output_type": "execute_result"
    },
    {
     "data": {
      "image/png": "[encoded data removed]",
      "text/plain": [
       "<Figure size 432x288 with 1 Axes>"
      ]
     },
     "metadata": {},
     "output_type": "display_data"
    }
   ],
   "source": [
    "plot(fuel_entry_speeds, fuel_times, '.')"
   ]
  }
 ],
 "metadata": {
  "kernelspec": {
   "display_name": "Python 3",
   "language": "python",
   "name": "python3"
  },
  "language_info": {
   "codemirror_mode": {
    "name": "ipython",
    "version": 3
   },
   "file_extension": ".py",
   "mimetype": "text/x-python",
   "name": "python",
   "nbconvert_exporter": "python",
   "pygments_lexer": "ipython3",
   "version": "3.6.6"
  }
 },
 "nbformat": 4,
 "nbformat_minor": 2
}
