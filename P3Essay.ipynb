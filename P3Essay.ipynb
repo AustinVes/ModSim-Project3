{
 "cells": [
  {
   "cell_type": "code",
   "execution_count": 2,
   "metadata": {},
   "outputs": [],
   "source": [
    "# Configure Jupyter so figures appear in the notebook\n",
    "%matplotlib inline\n",
    "\n",
    "# Configure Jupyter to display the assigned value after an assignment\n",
    "%config InteractiveShell.ast_node_interactivity='last_expr_or_assign'\n",
    "\n",
    "# import functions from the modsim.py module\n",
    "from modsim import *\n",
    "from numpy import *"
   ]
  },
  {
   "cell_type": "markdown",
   "metadata": {},
   "source": [
    "# Project Three: Rover"
   ]
  },
  {
   "cell_type": "markdown",
   "metadata": {},
   "source": [
    "Section 3, Team 12, Austin Veseliza and Mads Young"
   ]
  },
  {
   "cell_type": "markdown",
   "metadata": {},
   "source": [
    "## Question\n",
    "Given Mars' gravity and atmosphere, what is the most efficient angle and amount of thrust for a safe rover landing and the least fuel usage?\n",
    "## Model Representations\n",
    "### Schematic\n",
    "![\"schematic\"](figs/diagram.png)\n",
    "### Equations\n",
    "atmosphere density = e ^ (-y/e) * 0.0072\n",
    "\n",
    "force of drag = 1/2 * atmosphere density  * velocity squared * reference area * drag coefficient\n",
    "### Python"
   ]
  },
  {
   "cell_type": "markdown",
   "metadata": {},
   "source": []
  },
  {
   "cell_type": "markdown",
   "metadata": {},
   "source": [
    "## Model\n",
    "We made a model for the density of the atmosphere of Mars so there is a model within our model. That contributes to error in the final results. We also assumed that the rover is a sphere, because spheres are easier to model than rectangles. Actual Mars rovers are not spheres. We also assumed that the rover would be able to thrust itself upwards at a constant force. The sphere assumption is worse than the constant force assumption which is worse than the atmosphere assumption, but we are in college and just trying to survive. The atmosphere and constant force assumptions are more feasible than the spherical rover. We chose to use dictionary comprehension as well as list comprehension because it's faster to write than for loops. \n",
    "## Results\n",
    "We found that xyzyz. BTKEWJwe. If we ran our model on one single computer, it would take python roughly 11 hours to complete 17381 optimizations. We broke the total sweep from 10 m/s to 200m/s into 6 intervals, each running on a different computer, so that it took two hours instead of 11. \n",
    "## Interpretation\n",
    "We are not entirely sure how much our assumptions threw the model off. We think this is a decent model, and we had fun with it. Our model started very simply, using the Manny Ramirez problem as base code. We edited it to fit our scenario, and produced a graph that showed us how far the rover would travel in the x direction based on a changed entry angle. To answer our question, we added more functions to sweep multiple parameters and graphed the results. "
   ]
  },
  {
   "cell_type": "code",
   "execution_count": null,
   "metadata": {},
   "outputs": [],
   "source": []
  }
 ],
 "metadata": {
  "kernelspec": {
   "display_name": "Python 3",
   "language": "python",
   "name": "python3"
  },
  "language_info": {
   "codemirror_mode": {
    "name": "ipython",
    "version": 3
   },
   "file_extension": ".py",
   "mimetype": "text/x-python",
   "name": "python",
   "nbconvert_exporter": "python",
   "pygments_lexer": "ipython3",
   "version": "3.6.6"
  }
 },
 "nbformat": 4,
 "nbformat_minor": 2
}
