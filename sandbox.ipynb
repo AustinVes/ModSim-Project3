{
 "cells": [
  {
   "cell_type": "code",
   "execution_count": 53,
   "metadata": {},
   "outputs": [],
   "source": [
    "# Configure Jupyter so figures appear in the notebook\n",
    "%matplotlib inline\n",
    "\n",
    "# Configure Jupyter to display the assigned value after an assignment\n",
    "%config InteractiveShell.ast_node_interactivity='last_expr_or_assign'\n",
    "\n",
    "# import functions from the modsim.py module\n",
    "from modsim import *\n",
    "from numpy import *"
   ]
  },
  {
   "cell_type": "code",
   "execution_count": 54,
   "metadata": {},
   "outputs": [
    {
     "data": {
      "text/html": [
       "newton"
      ],
      "text/latex": [
       "$newton$"
      ],
      "text/plain": [
       "<Unit('newton')>"
      ]
     },
     "execution_count": 54,
     "metadata": {},
     "output_type": "execute_result"
    }
   ],
   "source": [
    "m = UNITS.meter\n",
    "s = UNITS.second\n",
    "kg = UNITS.kilogram\n",
    "degree = UNITS.degree\n",
    "N = UNITS.newton"
   ]
  },
  {
   "cell_type": "code",
   "execution_count": 55,
   "metadata": {},
   "outputs": [
    {
     "data": {
      "text/html": [
       "<div>\n",
       "<style scoped>\n",
       "    .dataframe tbody tr th:only-of-type {\n",
       "        vertical-align: middle;\n",
       "    }\n",
       "\n",
       "    .dataframe tbody tr th {\n",
       "        vertical-align: top;\n",
       "    }\n",
       "\n",
       "    .dataframe thead th {\n",
       "        text-align: right;\n",
       "    }\n",
       "</style>\n",
       "<table border=\"1\" class=\"dataframe\">\n",
       "  <thead>\n",
       "    <tr style=\"text-align: right;\">\n",
       "      <th></th>\n",
       "      <th>values</th>\n",
       "    </tr>\n",
       "  </thead>\n",
       "  <tbody>\n",
       "    <tr>\n",
       "      <th>x</th>\n",
       "      <td>0 meter</td>\n",
       "    </tr>\n",
       "    <tr>\n",
       "      <th>y</th>\n",
       "      <td>5000 meter</td>\n",
       "    </tr>\n",
       "    <tr>\n",
       "      <th>speed</th>\n",
       "      <td>550.0 meter / second</td>\n",
       "    </tr>\n",
       "    <tr>\n",
       "      <th>mass</th>\n",
       "      <td>900 kilogram</td>\n",
       "    </tr>\n",
       "    <tr>\n",
       "      <th>g</th>\n",
       "      <td>3.7 meter / second ** 2</td>\n",
       "    </tr>\n",
       "    <tr>\n",
       "      <th>diam</th>\n",
       "      <td>3 meter</td>\n",
       "    </tr>\n",
       "    <tr>\n",
       "      <th>C_d</th>\n",
       "      <td>0.3</td>\n",
       "    </tr>\n",
       "    <tr>\n",
       "      <th>rho</th>\n",
       "      <td>0.0072 kilogram / meter ** 3</td>\n",
       "    </tr>\n",
       "    <tr>\n",
       "      <th>t_end</th>\n",
       "      <td>3600 second</td>\n",
       "    </tr>\n",
       "    <tr>\n",
       "      <th>angle</th>\n",
       "      <td>-45 degree</td>\n",
       "    </tr>\n",
       "    <tr>\n",
       "      <th>Thrust</th>\n",
       "      <td>11000.0 kilogram * meter / second ** 2</td>\n",
       "    </tr>\n",
       "  </tbody>\n",
       "</table>\n",
       "</div>"
      ],
      "text/plain": [
       "x                                        0 meter\n",
       "y                                     5000 meter\n",
       "speed                       550.0 meter / second\n",
       "mass                                900 kilogram\n",
       "g                        3.7 meter / second ** 2\n",
       "diam                                     3 meter\n",
       "C_d                                          0.3\n",
       "rho                 0.0072 kilogram / meter ** 3\n",
       "t_end                                3600 second\n",
       "angle                                 -45 degree\n",
       "Thrust    11000.0 kilogram * meter / second ** 2\n",
       "dtype: object"
      ]
     },
     "execution_count": 55,
     "metadata": {},
     "output_type": "execute_result"
    }
   ],
   "source": [
    "default_params = Params(\n",
    "    x = 0 * m,\n",
    "    y = 5000 * m,\n",
    "    speed = 550 * m/s,\n",
    "    mass = 900 * kg,\n",
    "    g = 3.7 * m/s**2,\n",
    "    diam = 3 * m,\n",
    "    C_d = 0.3,\n",
    "    rho = 1.2 * 0.006 * kg/m**3,\n",
    "    t_end = 3600 * s,\n",
    "    angle = -45 * degree,\n",
    "    Thrust = 11000 * kg * m/s**2\n",
    ")"
   ]
  },
  {
   "cell_type": "code",
   "execution_count": 56,
   "metadata": {},
   "outputs": [],
   "source": [
    "def make_system(params):\n",
    "    \"\"\" Make a system object.\n",
    "    \n",
    "    params: Parameter object includes\n",
    "     - x: initial x position (m)\n",
    "     - y: initial y position (m)\n",
    "     - speed: initial speed (m/s)\n",
    "     \n",
    "     - mass: rover mass (kg)\n",
    "     - g: acceleration due to gravity (m/s^2)\n",
    "     \n",
    "     - diam: rover diameter (m)\n",
    "     - C_d: coefficient of drag (unitless)\n",
    "     - rho: air density at surface level (kg/m^3)\n",
    "     \n",
    "     - t_end: end time (s)\n",
    "     \n",
    "     - angle: entry angle (degree)\n",
    "     - Thrust: thrust force (N)\n",
    "    \n",
    "    returns: System object includes\n",
    "     - mass: rover mass (kg)\n",
    "     - area: rover surface area (m^2)\n",
    "     - g: acceleration due to gravity (m/s^2)\n",
    "     - thrust: acceleration due to thrust (m/s^2)\n",
    "     - C_d: coefficient of drag (unitless)\n",
    "     - rho: air density at surface level (kg/m^3)\n",
    "     - t_end: end time (s)\n",
    "     - init: State object includes\n",
    "      - pos: initial x,y position (Vector(m, m))\n",
    "      - v: initial velocity (Vector(m/s, m/s))\n",
    "    \"\"\"\n",
    "    \n",
    "    unpack(params)\n",
    "    \n",
    "    area = np.pi * (diam/2)**2\n",
    "    \n",
    "    thrust = Thrust / mass\n",
    "    \n",
    "    theta = np.deg2rad(angle)\n",
    "    vx, vy = Vector(*pol2cart(theta, speed))\n",
    "    init = State(x=x, y=y, vx=vx, vy=vy)\n",
    "    \n",
    "    return System(\n",
    "        mass = mass,\n",
    "        area = area,\n",
    "        g = g,\n",
    "        thrust = thrust,\n",
    "        C_d = C_d,\n",
    "        rho = rho,\n",
    "        t_end = t_end,\n",
    "        init = init\n",
    "    )"
   ]
  },
  {
   "cell_type": "code",
   "execution_count": 57,
   "metadata": {},
   "outputs": [
    {
     "data": {
      "text/html": [
       "<div>\n",
       "<style scoped>\n",
       "    .dataframe tbody tr th:only-of-type {\n",
       "        vertical-align: middle;\n",
       "    }\n",
       "\n",
       "    .dataframe tbody tr th {\n",
       "        vertical-align: top;\n",
       "    }\n",
       "\n",
       "    .dataframe thead th {\n",
       "        text-align: right;\n",
       "    }\n",
       "</style>\n",
       "<table border=\"1\" class=\"dataframe\">\n",
       "  <thead>\n",
       "    <tr style=\"text-align: right;\">\n",
       "      <th></th>\n",
       "      <th>values</th>\n",
       "    </tr>\n",
       "  </thead>\n",
       "  <tbody>\n",
       "    <tr>\n",
       "      <th>mass</th>\n",
       "      <td>900 kilogram</td>\n",
       "    </tr>\n",
       "    <tr>\n",
       "      <th>area</th>\n",
       "      <td>7.0685834705770345 meter ** 2</td>\n",
       "    </tr>\n",
       "    <tr>\n",
       "      <th>g</th>\n",
       "      <td>3.7 meter / second ** 2</td>\n",
       "    </tr>\n",
       "    <tr>\n",
       "      <th>thrust</th>\n",
       "      <td>12.222222222222221 meter / second ** 2</td>\n",
       "    </tr>\n",
       "    <tr>\n",
       "      <th>C_d</th>\n",
       "      <td>0.3</td>\n",
       "    </tr>\n",
       "    <tr>\n",
       "      <th>rho</th>\n",
       "      <td>0.0072 kilogram / meter ** 3</td>\n",
       "    </tr>\n",
       "    <tr>\n",
       "      <th>t_end</th>\n",
       "      <td>3600 second</td>\n",
       "    </tr>\n",
       "    <tr>\n",
       "      <th>init</th>\n",
       "      <td>x                                0 meter\n",
       "y    ...</td>\n",
       "    </tr>\n",
       "  </tbody>\n",
       "</table>\n",
       "</div>"
      ],
      "text/plain": [
       "mass                                           900 kilogram\n",
       "area                          7.0685834705770345 meter ** 2\n",
       "g                                   3.7 meter / second ** 2\n",
       "thrust               12.222222222222221 meter / second ** 2\n",
       "C_d                                                     0.3\n",
       "rho                            0.0072 kilogram / meter ** 3\n",
       "t_end                                           3600 second\n",
       "init      x                                0 meter\n",
       "y    ...\n",
       "dtype: object"
      ]
     },
     "execution_count": 57,
     "metadata": {},
     "output_type": "execute_result"
    }
   ],
   "source": [
    "make_system(default_params)"
   ]
  },
  {
   "cell_type": "code",
   "execution_count": 58,
   "metadata": {},
   "outputs": [],
   "source": [
    "def drag_force(state, system):\n",
    "    \"\"\"Computes drag force in the opposite direction of velocity.\n",
    "    \n",
    "    state: State object with pos, v\n",
    "    system: System object with area, C_d, rho\n",
    "    \n",
    "    returns: Vector drag force\n",
    "    \"\"\"\n",
    "    \n",
    "    x, y, vx, vy = state\n",
    "    pos = Vector(x,y)\n",
    "    v = Vector(vx,vy)\n",
    "    unpack(system)\n",
    "    \n",
    "    C_a = np.exp(-(pos.y/1000)/np.e)\n",
    "    mag = -(rho * C_a) * v.mag**2 * C_d * area / 2\n",
    "    direction = v.hat()\n",
    "    f_drag = mag * direction\n",
    "    return f_drag"
   ]
  },
  {
   "cell_type": "code",
   "execution_count": 59,
   "metadata": {},
   "outputs": [],
   "source": [
    "def slope_func(state, t, system):\n",
    "    \"\"\"Computes derivatives of the state variables.\n",
    "    \n",
    "    state: State (x, y, vx, vy)\n",
    "    t: time\n",
    "    system: System object with g, rho, C_d, area, mass\n",
    "    \n",
    "    returns: sequence (v.x, v.y, a.x, a.y)\n",
    "    \"\"\"\n",
    "    x, y, vx, vy = state\n",
    "    pos = Vector(x,y)\n",
    "    v = Vector(vx,vy)\n",
    "    unpack(system)\n",
    "  \n",
    "    a_drag = drag_force(state, system) / mass\n",
    "    a_grav = Vector(0, -g)\n",
    "    a_thrust = Vector(0, thrust)\n",
    "    \n",
    "    a = a_grav + a_thrust + a_drag\n",
    "    \n",
    "    return v.x, v.y, a.x, a.y"
   ]
  },
  {
   "cell_type": "code",
   "execution_count": 63,
   "metadata": {},
   "outputs": [],
   "source": [
    "def event_func(state, t, system):\n",
    "    \"\"\"Stop when the y coordinate is 0.\n",
    "    S\n",
    "    state: State object\n",
    "    t: time\n",
    "    system: System object\n",
    "    \n",
    "    returns: y coordinate\n",
    "    \"\"\"\n",
    "    x, y, vx, vy = state\n",
    "    pos = Vector(x,y)\n",
    "    v = Vector(vx,vy)\n",
    "    \n",
    "    return pos.y"
   ]
  },
  {
   "cell_type": "code",
   "execution_count": 110,
   "metadata": {},
   "outputs": [],
   "source": [
    "def landing_speed(init_speed, params):\n",
    "    \"\"\"Computes the speed at which the rover hits the ground for a given initial speed.\n",
    "    \n",
    "    init_speed: initial speed in m/s\n",
    "    params: Params object\n",
    "    \n",
    "    returns: landing speed in m/s\n",
    "    \"\"\"\n",
    "    params = Params(params, speed=init_speed)\n",
    "    system = make_system(params)\n",
    "    results, details = run_ode_solver(system, slope_func, events=event_func)\n",
    "    plot(results.index, results.y)\n",
    "    final_v = Vector(get_last_value(results.vx), get_last_value(results.vy))\n",
    "    print(final_v.y)\n",
    "    final_speed = final_v.mag * m/s\n",
    "    return final_speed"
   ]
  },
  {
   "cell_type": "code",
   "execution_count": 116,
   "metadata": {},
   "outputs": [
    {
     "name": "stdout",
     "output_type": "stream",
     "text": [
      "-146.6880137837511 dimensionless\n",
      "Wall time: 128 ms\n"
     ]
    },
    {
     "data": {
      "text/html": [
       "352.522397828345 meter/second"
      ],
      "text/latex": [
       "$352.522397828345 \\frac{meter}{second}$"
      ],
      "text/plain": [
       "<Quantity(352.522397828345, 'meter / second')>"
      ]
     },
     "execution_count": 116,
     "metadata": {},
     "output_type": "execute_result"
    },
    {
     "data": {
      "image/png": "[encoded data removed]",
      "text/plain": [
       "<Figure size 432x288 with 1 Axes>"
      ]
     },
     "metadata": {},
     "output_type": "display_data"
    }
   ],
   "source": [
    "%time landing_speed(470 * m/s, default_params)"
   ]
  },
  {
   "cell_type": "code",
   "execution_count": 68,
   "metadata": {},
   "outputs": [
    {
     "ename": "NameError",
     "evalue": "name 'results' is not defined",
     "output_type": "error",
     "traceback": [
      "\u001b[1;31m---------------------------------------------------------------------------\u001b[0m",
      "\u001b[1;31mNameError\u001b[0m                                 Traceback (most recent call last)",
      "\u001b[1;32m<ipython-input-68-b3fd760490ce>\u001b[0m in \u001b[0;36m<module>\u001b[1;34m()\u001b[0m\n\u001b[1;32m----> 1\u001b[1;33m \u001b[0mplot\u001b[0m\u001b[1;33m(\u001b[0m\u001b[0mresults\u001b[0m\u001b[1;33m.\u001b[0m\u001b[0mx\u001b[0m\u001b[1;33m,\u001b[0m \u001b[0mresults\u001b[0m\u001b[1;33m.\u001b[0m\u001b[0my\u001b[0m\u001b[1;33m)\u001b[0m\u001b[1;33m\u001b[0m\u001b[0m\n\u001b[0m",
      "\u001b[1;31mNameError\u001b[0m: name 'results' is not defined"
     ]
    }
   ],
   "source": []
  },
  {
   "cell_type": "code",
   "execution_count": null,
   "metadata": {},
   "outputs": [],
   "source": []
  }
 ],
 "metadata": {
  "kernelspec": {
   "display_name": "Python 3",
   "language": "python",
   "name": "python3"
  },
  "language_info": {
   "codemirror_mode": {
    "name": "ipython",
    "version": 3
   },
   "file_extension": ".py",
   "mimetype": "text/x-python",
   "name": "python",
   "nbconvert_exporter": "python",
   "pygments_lexer": "ipython3",
   "version": "3.6.6"
  }
 },
 "nbformat": 4,
 "nbformat_minor": 2
}
